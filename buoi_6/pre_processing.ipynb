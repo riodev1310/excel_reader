{
 "cells": [
  {
   "cell_type": "markdown",
   "id": "36d21490-a6e5-4cd0-ade8-5a87ae55a865",
   "metadata": {},
   "source": [
    "# **Bước 1: cài đặt thư viện pandas** "
   ]
  },
  {
   "cell_type": "code",
   "execution_count": 2,
   "id": "df05c8a8-7b8e-47b3-8d53-4be3949fca4c",
   "metadata": {},
   "outputs": [
    {
     "name": "stdout",
     "output_type": "stream",
     "text": [
      "Requirement already satisfied: pandas in /opt/anaconda3/lib/python3.12/site-packages (2.2.2)\n",
      "Requirement already satisfied: numpy>=1.26.0 in /opt/anaconda3/lib/python3.12/site-packages (from pandas) (1.26.4)\n",
      "Requirement already satisfied: python-dateutil>=2.8.2 in /opt/anaconda3/lib/python3.12/site-packages (from pandas) (2.9.0.post0)\n",
      "Requirement already satisfied: pytz>=2020.1 in /opt/anaconda3/lib/python3.12/site-packages (from pandas) (2024.1)\n",
      "Requirement already satisfied: tzdata>=2022.7 in /opt/anaconda3/lib/python3.12/site-packages (from pandas) (2023.3)\n",
      "Requirement already satisfied: six>=1.5 in /opt/anaconda3/lib/python3.12/site-packages (from python-dateutil>=2.8.2->pandas) (1.16.0)\n"
     ]
    }
   ],
   "source": [
    "!pip install pandas "
   ]
  },
  {
   "cell_type": "code",
   "execution_count": 4,
   "id": "daf9bd62-55ae-45af-a7b4-418825cacc82",
   "metadata": {},
   "outputs": [],
   "source": [
    "import pandas as pd"
   ]
  },
  {
   "cell_type": "markdown",
   "id": "63c0929c-3092-4a55-8e54-253ba77f0fe2",
   "metadata": {},
   "source": [
    "Dataset link: https://raw.githubusercontent.com/riodev1310/rio_datasets/refs/heads/main/preprocessing_data.csv"
   ]
  },
  {
   "cell_type": "markdown",
   "id": "fadbd93b-4d3d-4e36-abec-bd81d6a6e9b0",
   "metadata": {},
   "source": [
    "/Users/vietannguyen/datasets/preprocessing_data.csv"
   ]
  },
  {
   "cell_type": "markdown",
   "id": "b598ac84-b395-4062-98d8-cc5626913335",
   "metadata": {},
   "source": [
    "# Đọc file csv"
   ]
  },
  {
   "cell_type": "code",
   "execution_count": 6,
   "id": "3f922f64-bc98-4669-9c19-0ab234294cb3",
   "metadata": {},
   "outputs": [
    {
     "name": "stdout",
     "output_type": "stream",
     "text": [
      "<class 'pandas.core.frame.DataFrame'>\n",
      "RangeIndex: 122 entries, 0 to 121\n",
      "Data columns (total 18 columns):\n",
      " #   Column                  Non-Null Count  Dtype  \n",
      "---  ------                  --------------  -----  \n",
      " 0   Customer ID             122 non-null    int64  \n",
      " 1   Age                     122 non-null    int64  \n",
      " 2   Gender                  122 non-null    object \n",
      " 3   Item Purchased          122 non-null    object \n",
      " 4   Category                122 non-null    object \n",
      " 5   Purchase Amount (USD)   109 non-null    float64\n",
      " 6   Location                122 non-null    object \n",
      " 7   Size                    122 non-null    object \n",
      " 8   Color                   122 non-null    object \n",
      " 9   Season                  122 non-null    object \n",
      " 10  Review Rating           109 non-null    float64\n",
      " 11  Subscription Status     122 non-null    object \n",
      " 12  Shipping Type           122 non-null    object \n",
      " 13  Discount Applied        122 non-null    object \n",
      " 14  Promo Code Used         122 non-null    object \n",
      " 15  Previous Purchases      122 non-null    int64  \n",
      " 16  Payment Method          122 non-null    object \n",
      " 17  Frequency of Purchases  122 non-null    object \n",
      "dtypes: float64(2), int64(3), object(13)\n",
      "memory usage: 17.3+ KB\n"
     ]
    }
   ],
   "source": [
    "df = pd.read_csv(\"https://raw.githubusercontent.com/riodev1310/rio_datasets/refs/heads/main/preprocessing_data.csv\")\n",
    "df.info()"
   ]
  },
  {
   "cell_type": "markdown",
   "id": "1f86ad24-f45e-46e7-8226-6cc625c4fb72",
   "metadata": {},
   "source": [
    "# Lấy ra list các cột trong dataset"
   ]
  },
  {
   "cell_type": "code",
   "execution_count": 8,
   "id": "938e85c8-48d7-45fe-950f-c63197a85981",
   "metadata": {},
   "outputs": [
    {
     "data": {
      "text/plain": [
       "Index(['Customer ID', 'Age', 'Gender', 'Item Purchased', 'Category',\n",
       "       'Purchase Amount (USD)', 'Location', 'Size', 'Color', 'Season',\n",
       "       'Review Rating', 'Subscription Status', 'Shipping Type',\n",
       "       'Discount Applied', 'Promo Code Used', 'Previous Purchases',\n",
       "       'Payment Method', 'Frequency of Purchases'],\n",
       "      dtype='object')"
      ]
     },
     "execution_count": 8,
     "metadata": {},
     "output_type": "execute_result"
    }
   ],
   "source": [
    "df.columns "
   ]
  },
  {
   "cell_type": "markdown",
   "id": "fc4064f3-5a41-412c-969c-78ba916d0a7f",
   "metadata": {},
   "source": [
    "# Lấy giá trị của một cột bất kỳ"
   ]
  },
  {
   "cell_type": "code",
   "execution_count": 10,
   "id": "9d08c64e-0224-4821-945f-aef034e2b085",
   "metadata": {},
   "outputs": [
    {
     "data": {
      "text/plain": [
       "0          Coat\n",
       "1         Shoes\n",
       "2      Backpack\n",
       "3         Jeans\n",
       "4          Coat\n",
       "         ...   \n",
       "117       Shoes\n",
       "118       Scarf\n",
       "119      Gloves\n",
       "120       Jeans\n",
       "121       Scarf\n",
       "Name: Item Purchased, Length: 122, dtype: object"
      ]
     },
     "execution_count": 10,
     "metadata": {},
     "output_type": "execute_result"
    }
   ],
   "source": [
    "df[\"Item Purchased\"] "
   ]
  },
  {
   "cell_type": "code",
   "execution_count": 12,
   "id": "815e3c79-6cc7-49e6-99d4-5aa31db7a839",
   "metadata": {},
   "outputs": [
    {
     "data": {
      "text/plain": [
       "array(['Coat', 'Shoes', 'Backpack', 'Jeans', 'Handbag', 'Socks',\n",
       "       'Sandals', 'Pants', 'Belt', 'Hoodie', 'T-shirt', 'Sunglasses',\n",
       "       'Hat', 'Jacket', 'Shorts', 'Scarf', 'Sweater', 'Shirt', 'Skirt',\n",
       "       'Dress', 'Blouse', 'Boots', 'Jewelry', 'Gloves'], dtype=object)"
      ]
     },
     "execution_count": 12,
     "metadata": {},
     "output_type": "execute_result"
    }
   ],
   "source": [
    "df[\"Item Purchased\"].unique() "
   ]
  },
  {
   "cell_type": "markdown",
   "id": "1f4293e7-0f2c-4744-b8d7-db1600620c73",
   "metadata": {},
   "source": [
    "# **Bước 2: Xử lý dữ liệu**"
   ]
  },
  {
   "cell_type": "code",
   "execution_count": 14,
   "id": "5afe3cae-50c8-4cbd-b363-6fa1b0fcfc83",
   "metadata": {},
   "outputs": [
    {
     "data": {
      "text/plain": [
       "Customer ID               False\n",
       "Age                       False\n",
       "Gender                    False\n",
       "Item Purchased            False\n",
       "Category                  False\n",
       "Purchase Amount (USD)      True\n",
       "Location                  False\n",
       "Size                      False\n",
       "Color                     False\n",
       "Season                    False\n",
       "Review Rating              True\n",
       "Subscription Status       False\n",
       "Shipping Type             False\n",
       "Discount Applied          False\n",
       "Promo Code Used           False\n",
       "Previous Purchases        False\n",
       "Payment Method            False\n",
       "Frequency of Purchases    False\n",
       "dtype: bool"
      ]
     },
     "execution_count": 14,
     "metadata": {},
     "output_type": "execute_result"
    }
   ],
   "source": [
    "df.isnull().any() "
   ]
  },
  {
   "cell_type": "code",
   "execution_count": 16,
   "id": "fecc8ea4-b03f-435d-b048-8aa9a64c9f54",
   "metadata": {},
   "outputs": [
    {
     "data": {
      "text/plain": [
       "98.0"
      ]
     },
     "execution_count": 16,
     "metadata": {},
     "output_type": "execute_result"
    }
   ],
   "source": [
    "# Lấy ra giá trị lớn nhất trong một cột\n",
    "df[\"Purchase Amount (USD)\"].max()"
   ]
  },
  {
   "cell_type": "code",
   "execution_count": 18,
   "id": "b9bd1de4-0058-4d86-b591-a131a591c429",
   "metadata": {},
   "outputs": [
    {
     "data": {
      "text/plain": [
       "20.0"
      ]
     },
     "execution_count": 18,
     "metadata": {},
     "output_type": "execute_result"
    }
   ],
   "source": [
    "# Lấy ra giá trị nhỏ nhất trong một cột\n",
    "df[\"Purchase Amount (USD)\"].min()  "
   ]
  },
  {
   "cell_type": "code",
   "execution_count": 20,
   "id": "f44f650c-acc2-409b-9ccc-f0a25f6d7388",
   "metadata": {},
   "outputs": [
    {
     "data": {
      "text/plain": [
       "61.00917431192661"
      ]
     },
     "execution_count": 20,
     "metadata": {},
     "output_type": "execute_result"
    }
   ],
   "source": [
    "# Lấy ra giá trị trung bình trong một cột\n",
    "df[\"Purchase Amount (USD)\"].mean() "
   ]
  },
  {
   "cell_type": "code",
   "execution_count": 22,
   "id": "1d5efd59-de1b-43d5-b2eb-effc28b070a3",
   "metadata": {},
   "outputs": [
    {
     "data": {
      "text/plain": [
       "60.0"
      ]
     },
     "execution_count": 22,
     "metadata": {},
     "output_type": "execute_result"
    }
   ],
   "source": [
    "# Lấy ra giá trị trung vi trong một cột\n",
    "df[\"Purchase Amount (USD)\"].median() "
   ]
  },
  {
   "cell_type": "code",
   "execution_count": 24,
   "id": "ea2f7f48-50c0-4dae-b7be-7cd4f0378aab",
   "metadata": {},
   "outputs": [
    {
     "data": {
      "text/plain": [
       "'Shoes'"
      ]
     },
     "execution_count": 24,
     "metadata": {},
     "output_type": "execute_result"
    }
   ],
   "source": [
    "df[\"Item Purchased\"].mode()[0] "
   ]
  },
  {
   "cell_type": "markdown",
   "id": "99b068f2-afa8-4e86-802a-935caeb22aac",
   "metadata": {},
   "source": [
    "# Xử lý cột Purchase amount (USD)"
   ]
  },
  {
   "cell_type": "code",
   "execution_count": 21,
   "id": "3bf5a730-b195-47d2-8faa-1e694d7ba264",
   "metadata": {},
   "outputs": [
    {
     "name": "stdout",
     "output_type": "stream",
     "text": [
      "<class 'pandas.core.frame.DataFrame'>\n",
      "RangeIndex: 122 entries, 0 to 121\n",
      "Data columns (total 18 columns):\n",
      " #   Column                  Non-Null Count  Dtype  \n",
      "---  ------                  --------------  -----  \n",
      " 0   Customer ID             122 non-null    int64  \n",
      " 1   Age                     122 non-null    int64  \n",
      " 2   Gender                  122 non-null    object \n",
      " 3   Item Purchased          122 non-null    object \n",
      " 4   Category                122 non-null    object \n",
      " 5   Purchase Amount (USD)   122 non-null    float64\n",
      " 6   Location                122 non-null    object \n",
      " 7   Size                    122 non-null    object \n",
      " 8   Color                   122 non-null    object \n",
      " 9   Season                  122 non-null    object \n",
      " 10  Review Rating           109 non-null    float64\n",
      " 11  Subscription Status     122 non-null    object \n",
      " 12  Shipping Type           122 non-null    object \n",
      " 13  Discount Applied        122 non-null    object \n",
      " 14  Promo Code Used         122 non-null    object \n",
      " 15  Previous Purchases      122 non-null    int64  \n",
      " 16  Payment Method          122 non-null    object \n",
      " 17  Frequency of Purchases  122 non-null    object \n",
      "dtypes: float64(2), int64(3), object(13)\n",
      "memory usage: 17.3+ KB\n"
     ]
    }
   ],
   "source": [
    "# Lấy ra giá trị trung bình của cột \n",
    "purchase_amount_mean =  df[\"Purchase Amount (USD)\"].mean()  \n",
    "# Fill vào những giá trị null bằng giá trị trung bình của cột \n",
    "df[\"Purchase Amount (USD)\"] = df[\"Purchase Amount (USD)\"].fillna(purchase_amount_mean)  \n",
    "df.info() "
   ]
  },
  {
   "cell_type": "code",
   "execution_count": 12,
   "id": "6298cba2-c7df-4e50-90cb-7685f79044fc",
   "metadata": {},
   "outputs": [
    {
     "data": {
      "text/plain": [
       "0      61.363636\n",
       "1      65.214286\n",
       "2      61.333333\n",
       "3      59.458333\n",
       "4      61.363636\n",
       "         ...    \n",
       "117    65.214286\n",
       "118    61.333333\n",
       "119    61.333333\n",
       "120    59.458333\n",
       "121    61.333333\n",
       "Name: Purchase Amount (USD), Length: 122, dtype: float64"
      ]
     },
     "execution_count": 12,
     "metadata": {},
     "output_type": "execute_result"
    }
   ],
   "source": [
    "# Tính lấy ra giá trị trung bình của từng category \n",
    "category_avg = df.groupby('Category')['Purchase Amount (USD)'].transform('mean')\n",
    "category_avg"
   ]
  },
  {
   "cell_type": "code",
   "execution_count": 10,
   "id": "5bb048dd-5a65-4936-b021-aeeba178b61d",
   "metadata": {},
   "outputs": [
    {
     "data": {
      "text/plain": [
       "0      37.0\n",
       "1      75.0\n",
       "2      90.0\n",
       "3       NaN\n",
       "4      56.0\n",
       "       ... \n",
       "117    74.0\n",
       "118    29.0\n",
       "119    51.0\n",
       "120    28.0\n",
       "121     NaN\n",
       "Name: Purchase Amount (USD), Length: 122, dtype: float64"
      ]
     },
     "execution_count": 10,
     "metadata": {},
     "output_type": "execute_result"
    }
   ],
   "source": [
    "df[\"Purchase Amount (USD)\"]"
   ]
  },
  {
   "cell_type": "code",
   "execution_count": 44,
   "id": "4ca1c5d3-fd8c-454c-a9fa-f811ad97deb3",
   "metadata": {},
   "outputs": [
    {
     "data": {
      "text/plain": [
       "0      37.000000\n",
       "1      75.000000\n",
       "2      90.000000\n",
       "3      59.458333\n",
       "4      56.000000\n",
       "         ...    \n",
       "117    74.000000\n",
       "118    29.000000\n",
       "119    51.000000\n",
       "120    28.000000\n",
       "121    61.333333\n",
       "Name: Purchase Amount (USD), Length: 122, dtype: float64"
      ]
     },
     "execution_count": 44,
     "metadata": {},
     "output_type": "execute_result"
    }
   ],
   "source": [
    "# Fill missing value \n",
    "df.fillna({'Purchase Amount (USD)': category_avg}, inplace=True)\n",
    "df[\"Purchase Amount (USD)\"]"
   ]
  },
  {
   "cell_type": "code",
   "execution_count": 41,
   "id": "0e10cedb-dbb2-43cf-b901-556153223c87",
   "metadata": {},
   "outputs": [
    {
     "name": "stdout",
     "output_type": "stream",
     "text": [
      "<class 'pandas.core.frame.DataFrame'>\n",
      "RangeIndex: 122 entries, 0 to 121\n",
      "Data columns (total 18 columns):\n",
      " #   Column                  Non-Null Count  Dtype  \n",
      "---  ------                  --------------  -----  \n",
      " 0   Customer ID             122 non-null    int64  \n",
      " 1   Age                     122 non-null    int64  \n",
      " 2   Gender                  122 non-null    object \n",
      " 3   Item Purchased          122 non-null    object \n",
      " 4   Category                122 non-null    object \n",
      " 5   Purchase Amount (USD)   122 non-null    float64\n",
      " 6   Location                122 non-null    object \n",
      " 7   Size                    122 non-null    object \n",
      " 8   Color                   122 non-null    object \n",
      " 9   Season                  122 non-null    object \n",
      " 10  Review Rating           122 non-null    float64\n",
      " 11  Subscription Status     122 non-null    object \n",
      " 12  Shipping Type           122 non-null    object \n",
      " 13  Discount Applied        122 non-null    object \n",
      " 14  Promo Code Used         122 non-null    object \n",
      " 15  Previous Purchases      122 non-null    int64  \n",
      " 16  Payment Method          122 non-null    object \n",
      " 17  Frequency of Purchases  122 non-null    object \n",
      "dtypes: float64(2), int64(3), object(13)\n",
      "memory usage: 17.3+ KB\n"
     ]
    }
   ],
   "source": [
    "# Lấy ra giá trị trung bình của cột \n",
    "review_rating_mean =  df[\"Review Rating\"].mean()  \n",
    "# Fill vào những giá trị null bằng giá trị trung bình của cột \n",
    "df[\"Review Rating\"] = df[\"Review Rating\"].fillna(review_rating_mean)   \n",
    "df.info() "
   ]
  },
  {
   "cell_type": "markdown",
   "id": "d83c585c-0601-4df3-9784-bfbecf3bd43f",
   "metadata": {},
   "source": [
    "# Check oulier"
   ]
  },
  {
   "cell_type": "code",
   "execution_count": 43,
   "id": "f4e116cf-0e98-4351-a1bb-045b23d13d9d",
   "metadata": {},
   "outputs": [
    {
     "data": {
      "text/html": [
       "<div>\n",
       "<style scoped>\n",
       "    .dataframe tbody tr th:only-of-type {\n",
       "        vertical-align: middle;\n",
       "    }\n",
       "\n",
       "    .dataframe tbody tr th {\n",
       "        vertical-align: top;\n",
       "    }\n",
       "\n",
       "    .dataframe thead th {\n",
       "        text-align: right;\n",
       "    }\n",
       "</style>\n",
       "<table border=\"1\" class=\"dataframe\">\n",
       "  <thead>\n",
       "    <tr style=\"text-align: right;\">\n",
       "      <th></th>\n",
       "      <th>Customer ID</th>\n",
       "      <th>Age</th>\n",
       "      <th>Purchase Amount (USD)</th>\n",
       "      <th>Review Rating</th>\n",
       "      <th>Previous Purchases</th>\n",
       "    </tr>\n",
       "  </thead>\n",
       "  <tbody>\n",
       "    <tr>\n",
       "      <th>count</th>\n",
       "      <td>122.000000</td>\n",
       "      <td>122.000000</td>\n",
       "      <td>122.000000</td>\n",
       "      <td>122.000000</td>\n",
       "      <td>122.000000</td>\n",
       "    </tr>\n",
       "    <tr>\n",
       "      <th>mean</th>\n",
       "      <td>61.500000</td>\n",
       "      <td>43.704918</td>\n",
       "      <td>61.009174</td>\n",
       "      <td>3.688991</td>\n",
       "      <td>25.918033</td>\n",
       "    </tr>\n",
       "    <tr>\n",
       "      <th>std</th>\n",
       "      <td>35.362409</td>\n",
       "      <td>15.782975</td>\n",
       "      <td>22.343115</td>\n",
       "      <td>0.665978</td>\n",
       "      <td>14.660111</td>\n",
       "    </tr>\n",
       "    <tr>\n",
       "      <th>min</th>\n",
       "      <td>1.000000</td>\n",
       "      <td>18.000000</td>\n",
       "      <td>20.000000</td>\n",
       "      <td>2.500000</td>\n",
       "      <td>1.000000</td>\n",
       "    </tr>\n",
       "    <tr>\n",
       "      <th>25%</th>\n",
       "      <td>31.250000</td>\n",
       "      <td>30.250000</td>\n",
       "      <td>42.000000</td>\n",
       "      <td>3.200000</td>\n",
       "      <td>14.000000</td>\n",
       "    </tr>\n",
       "    <tr>\n",
       "      <th>50%</th>\n",
       "      <td>61.500000</td>\n",
       "      <td>41.000000</td>\n",
       "      <td>61.009174</td>\n",
       "      <td>3.688991</td>\n",
       "      <td>25.500000</td>\n",
       "    </tr>\n",
       "    <tr>\n",
       "      <th>75%</th>\n",
       "      <td>91.750000</td>\n",
       "      <td>58.750000</td>\n",
       "      <td>81.750000</td>\n",
       "      <td>4.100000</td>\n",
       "      <td>38.750000</td>\n",
       "    </tr>\n",
       "    <tr>\n",
       "      <th>max</th>\n",
       "      <td>122.000000</td>\n",
       "      <td>70.000000</td>\n",
       "      <td>98.000000</td>\n",
       "      <td>5.000000</td>\n",
       "      <td>50.000000</td>\n",
       "    </tr>\n",
       "  </tbody>\n",
       "</table>\n",
       "</div>"
      ],
      "text/plain": [
       "       Customer ID         Age  Purchase Amount (USD)  Review Rating  \\\n",
       "count   122.000000  122.000000             122.000000     122.000000   \n",
       "mean     61.500000   43.704918              61.009174       3.688991   \n",
       "std      35.362409   15.782975              22.343115       0.665978   \n",
       "min       1.000000   18.000000              20.000000       2.500000   \n",
       "25%      31.250000   30.250000              42.000000       3.200000   \n",
       "50%      61.500000   41.000000              61.009174       3.688991   \n",
       "75%      91.750000   58.750000              81.750000       4.100000   \n",
       "max     122.000000   70.000000              98.000000       5.000000   \n",
       "\n",
       "       Previous Purchases  \n",
       "count          122.000000  \n",
       "mean            25.918033  \n",
       "std             14.660111  \n",
       "min              1.000000  \n",
       "25%             14.000000  \n",
       "50%             25.500000  \n",
       "75%             38.750000  \n",
       "max             50.000000  "
      ]
     },
     "execution_count": 43,
     "metadata": {},
     "output_type": "execute_result"
    }
   ],
   "source": [
    "df.describe() "
   ]
  },
  {
   "cell_type": "markdown",
   "id": "23e21836-ef78-42bf-a125-72e5f4d2068d",
   "metadata": {},
   "source": [
    "# **Bước 3: Xử lý kiểu dữ liệu**"
   ]
  },
  {
   "cell_type": "code",
   "execution_count": 46,
   "id": "8309ab41-abd6-461d-8120-f25db32ac690",
   "metadata": {},
   "outputs": [
    {
     "name": "stdout",
     "output_type": "stream",
     "text": [
      "<class 'pandas.core.frame.DataFrame'>\n",
      "RangeIndex: 122 entries, 0 to 121\n",
      "Data columns (total 18 columns):\n",
      " #   Column                  Non-Null Count  Dtype  \n",
      "---  ------                  --------------  -----  \n",
      " 0   Customer ID             122 non-null    int64  \n",
      " 1   Age                     122 non-null    int64  \n",
      " 2   Gender                  122 non-null    string \n",
      " 3   Item Purchased          122 non-null    object \n",
      " 4   Category                122 non-null    object \n",
      " 5   Purchase Amount (USD)   122 non-null    float64\n",
      " 6   Location                122 non-null    object \n",
      " 7   Size                    122 non-null    object \n",
      " 8   Color                   122 non-null    object \n",
      " 9   Season                  122 non-null    object \n",
      " 10  Review Rating           122 non-null    float64\n",
      " 11  Subscription Status     122 non-null    object \n",
      " 12  Shipping Type           122 non-null    object \n",
      " 13  Discount Applied        122 non-null    object \n",
      " 14  Promo Code Used         122 non-null    object \n",
      " 15  Previous Purchases      122 non-null    int64  \n",
      " 16  Payment Method          122 non-null    object \n",
      " 17  Frequency of Purchases  122 non-null    object \n",
      "dtypes: float64(2), int64(3), object(12), string(1)\n",
      "memory usage: 17.3+ KB\n"
     ]
    }
   ],
   "source": [
    "df[\"Gender\"] = df[\"Gender\"].astype(\"string\") \n",
    "df.info() "
   ]
  },
  {
   "cell_type": "code",
   "execution_count": 48,
   "id": "9fd58a36-3c5e-416d-a045-94ee4467b7ea",
   "metadata": {},
   "outputs": [
    {
     "name": "stdout",
     "output_type": "stream",
     "text": [
      "<class 'pandas.core.frame.DataFrame'>\n",
      "RangeIndex: 122 entries, 0 to 121\n",
      "Data columns (total 18 columns):\n",
      " #   Column                  Non-Null Count  Dtype  \n",
      "---  ------                  --------------  -----  \n",
      " 0   Customer ID             122 non-null    int64  \n",
      " 1   Age                     122 non-null    int64  \n",
      " 2   Gender                  122 non-null    string \n",
      " 3   Item Purchased          122 non-null    string \n",
      " 4   Category                122 non-null    string \n",
      " 5   Purchase Amount (USD)   122 non-null    float64\n",
      " 6   Location                122 non-null    string \n",
      " 7   Size                    122 non-null    string \n",
      " 8   Color                   122 non-null    string \n",
      " 9   Season                  122 non-null    string \n",
      " 10  Review Rating           122 non-null    float64\n",
      " 11  Subscription Status     122 non-null    string \n",
      " 12  Shipping Type           122 non-null    string \n",
      " 13  Discount Applied        122 non-null    string \n",
      " 14  Promo Code Used         122 non-null    string \n",
      " 15  Previous Purchases      122 non-null    int64  \n",
      " 16  Payment Method          122 non-null    string \n",
      " 17  Frequency of Purchases  122 non-null    string \n",
      "dtypes: float64(2), int64(3), string(13)\n",
      "memory usage: 17.3 KB\n"
     ]
    }
   ],
   "source": [
    "df = df.astype({\n",
    "    col: \"string\" for col in df.select_dtypes(include=\"object\").columns \n",
    "})\n",
    "\n",
    "df.info()"
   ]
  },
  {
   "cell_type": "code",
   "execution_count": 52,
   "id": "2b8b979e-caa1-4912-a15f-7b1c59df8041",
   "metadata": {},
   "outputs": [
    {
     "data": {
      "text/plain": [
       "<StringArray>\n",
       "['8/19/2023',    'Winter',    'Summer',      'Fall',    'Spring', '3/21/2022',\n",
       " '5/31/2022', '9/13/2023', '12/1/2023', '4/12/2023']\n",
       "Length: 10, dtype: string"
      ]
     },
     "execution_count": 52,
     "metadata": {},
     "output_type": "execute_result"
    }
   ],
   "source": [
    "df[\"Season\"].unique() "
   ]
  },
  {
   "cell_type": "code",
   "execution_count": 56,
   "id": "5e70b815-ec73-43ef-a5d2-d4820944aa90",
   "metadata": {},
   "outputs": [],
   "source": [
    "seasons = {\"Spring\", \"Summer\", \"Fall\", \"Winter\"} \n",
    "\n",
    "def get_season(value): \n",
    "    if value in seasons:  # If already a season, return as is\n",
    "        return value\n",
    "    try:\n",
    "        month, day, year = map(int, value.split('/'))  # Extract month and day\n",
    "        if (month == 3 and day >= 21) or (4 <= month <= 5) or (month == 6 and day <= 20):\n",
    "            return \"Spring\"\n",
    "        elif (month == 6 and day >= 21) or (7 <= month <= 8 ) or (month == 9 and day <= 22):\n",
    "            return \"Summer\"\n",
    "        elif (month == 9 and day >= 23) or (10 <= month <= 11) or (month == 12 and day <= 20):\n",
    "            return \"Fall\"\n",
    "        else:\n",
    "            return \"Winter\"\n",
    "    except: # Error handling\n",
    "        return \"Unknown\"  # Handle unexpected values"
   ]
  },
  {
   "cell_type": "code",
   "execution_count": 58,
   "id": "6e97fc2b-5b63-4839-bb2e-de33a569fd7f",
   "metadata": {},
   "outputs": [],
   "source": [
    "df[\"Season\"] = df[\"Season\"].apply(get_season) "
   ]
  },
  {
   "cell_type": "code",
   "execution_count": 60,
   "id": "0e1a36c5-1e96-446d-b620-43dc16ed917c",
   "metadata": {},
   "outputs": [
    {
     "data": {
      "text/plain": [
       "array(['Summer', 'Winter', 'Fall', 'Spring'], dtype=object)"
      ]
     },
     "execution_count": 60,
     "metadata": {},
     "output_type": "execute_result"
    }
   ],
   "source": [
    "df[\"Season\"].unique() "
   ]
  },
  {
   "cell_type": "code",
   "execution_count": null,
   "id": "f30300ab-b520-47ac-a18b-fc5833075efc",
   "metadata": {},
   "outputs": [],
   "source": [
    "df.to_csv(\"preprocessing_data_processed.csv\") "
   ]
  }
 ],
 "metadata": {
  "kernelspec": {
   "display_name": "Python 3 (ipykernel)",
   "language": "python",
   "name": "python3"
  },
  "language_info": {
   "codemirror_mode": {
    "name": "ipython",
    "version": 3
   },
   "file_extension": ".py",
   "mimetype": "text/x-python",
   "name": "python",
   "nbconvert_exporter": "python",
   "pygments_lexer": "ipython3",
   "version": "3.12.2"
  }
 },
 "nbformat": 4,
 "nbformat_minor": 5
}
