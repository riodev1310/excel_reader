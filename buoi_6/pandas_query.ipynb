{
 "cells": [
  {
   "cell_type": "code",
   "execution_count": 1,
   "id": "1664d6b1-1fe9-44b5-80bd-b29a855019a9",
   "metadata": {},
   "outputs": [],
   "source": [
    "import pandas as pd "
   ]
  },
  {
   "cell_type": "code",
   "execution_count": 3,
   "id": "440d0789-2ae6-4ad5-8d36-746137e86e1b",
   "metadata": {},
   "outputs": [
    {
     "name": "stdout",
     "output_type": "stream",
     "text": [
      "<class 'pandas.core.frame.DataFrame'>\n",
      "RangeIndex: 891 entries, 0 to 890\n",
      "Data columns (total 12 columns):\n",
      " #   Column       Non-Null Count  Dtype  \n",
      "---  ------       --------------  -----  \n",
      " 0   PassengerId  891 non-null    int64  \n",
      " 1   Survived     891 non-null    int64  \n",
      " 2   Pclass       891 non-null    int64  \n",
      " 3   Name         891 non-null    object \n",
      " 4   Sex          891 non-null    object \n",
      " 5   Age          714 non-null    float64\n",
      " 6   SibSp        891 non-null    int64  \n",
      " 7   Parch        891 non-null    int64  \n",
      " 8   Ticket       891 non-null    object \n",
      " 9   Fare         891 non-null    float64\n",
      " 10  Cabin        204 non-null    object \n",
      " 11  Embarked     889 non-null    object \n",
      "dtypes: float64(2), int64(5), object(5)\n",
      "memory usage: 83.7+ KB\n"
     ]
    }
   ],
   "source": [
    "df = pd.read_csv(\"https://raw.githubusercontent.com/riodev1310/rio_datasets/refs/heads/main/titanic.csv\")\n",
    "df.info()"
   ]
  },
  {
   "cell_type": "code",
   "execution_count": 5,
   "id": "f068903c-0d3e-4f0f-b170-7cb0309a2385",
   "metadata": {},
   "outputs": [
    {
     "data": {
      "text/html": [
       "<div>\n",
       "<style scoped>\n",
       "    .dataframe tbody tr th:only-of-type {\n",
       "        vertical-align: middle;\n",
       "    }\n",
       "\n",
       "    .dataframe tbody tr th {\n",
       "        vertical-align: top;\n",
       "    }\n",
       "\n",
       "    .dataframe thead th {\n",
       "        text-align: right;\n",
       "    }\n",
       "</style>\n",
       "<table border=\"1\" class=\"dataframe\">\n",
       "  <thead>\n",
       "    <tr style=\"text-align: right;\">\n",
       "      <th></th>\n",
       "      <th>PassengerId</th>\n",
       "      <th>Survived</th>\n",
       "      <th>Pclass</th>\n",
       "      <th>Age</th>\n",
       "      <th>SibSp</th>\n",
       "      <th>Parch</th>\n",
       "      <th>Fare</th>\n",
       "    </tr>\n",
       "  </thead>\n",
       "  <tbody>\n",
       "    <tr>\n",
       "      <th>count</th>\n",
       "      <td>891.000000</td>\n",
       "      <td>891.000000</td>\n",
       "      <td>891.000000</td>\n",
       "      <td>714.000000</td>\n",
       "      <td>891.000000</td>\n",
       "      <td>891.000000</td>\n",
       "      <td>891.000000</td>\n",
       "    </tr>\n",
       "    <tr>\n",
       "      <th>mean</th>\n",
       "      <td>446.000000</td>\n",
       "      <td>0.383838</td>\n",
       "      <td>2.308642</td>\n",
       "      <td>29.699118</td>\n",
       "      <td>0.523008</td>\n",
       "      <td>0.381594</td>\n",
       "      <td>32.204208</td>\n",
       "    </tr>\n",
       "    <tr>\n",
       "      <th>std</th>\n",
       "      <td>257.353842</td>\n",
       "      <td>0.486592</td>\n",
       "      <td>0.836071</td>\n",
       "      <td>14.526497</td>\n",
       "      <td>1.102743</td>\n",
       "      <td>0.806057</td>\n",
       "      <td>49.693429</td>\n",
       "    </tr>\n",
       "    <tr>\n",
       "      <th>min</th>\n",
       "      <td>1.000000</td>\n",
       "      <td>0.000000</td>\n",
       "      <td>1.000000</td>\n",
       "      <td>0.420000</td>\n",
       "      <td>0.000000</td>\n",
       "      <td>0.000000</td>\n",
       "      <td>0.000000</td>\n",
       "    </tr>\n",
       "    <tr>\n",
       "      <th>25%</th>\n",
       "      <td>223.500000</td>\n",
       "      <td>0.000000</td>\n",
       "      <td>2.000000</td>\n",
       "      <td>20.125000</td>\n",
       "      <td>0.000000</td>\n",
       "      <td>0.000000</td>\n",
       "      <td>7.910400</td>\n",
       "    </tr>\n",
       "    <tr>\n",
       "      <th>50%</th>\n",
       "      <td>446.000000</td>\n",
       "      <td>0.000000</td>\n",
       "      <td>3.000000</td>\n",
       "      <td>28.000000</td>\n",
       "      <td>0.000000</td>\n",
       "      <td>0.000000</td>\n",
       "      <td>14.454200</td>\n",
       "    </tr>\n",
       "    <tr>\n",
       "      <th>75%</th>\n",
       "      <td>668.500000</td>\n",
       "      <td>1.000000</td>\n",
       "      <td>3.000000</td>\n",
       "      <td>38.000000</td>\n",
       "      <td>1.000000</td>\n",
       "      <td>0.000000</td>\n",
       "      <td>31.000000</td>\n",
       "    </tr>\n",
       "    <tr>\n",
       "      <th>max</th>\n",
       "      <td>891.000000</td>\n",
       "      <td>1.000000</td>\n",
       "      <td>3.000000</td>\n",
       "      <td>80.000000</td>\n",
       "      <td>8.000000</td>\n",
       "      <td>6.000000</td>\n",
       "      <td>512.329200</td>\n",
       "    </tr>\n",
       "  </tbody>\n",
       "</table>\n",
       "</div>"
      ],
      "text/plain": [
       "       PassengerId    Survived      Pclass         Age       SibSp  \\\n",
       "count   891.000000  891.000000  891.000000  714.000000  891.000000   \n",
       "mean    446.000000    0.383838    2.308642   29.699118    0.523008   \n",
       "std     257.353842    0.486592    0.836071   14.526497    1.102743   \n",
       "min       1.000000    0.000000    1.000000    0.420000    0.000000   \n",
       "25%     223.500000    0.000000    2.000000   20.125000    0.000000   \n",
       "50%     446.000000    0.000000    3.000000   28.000000    0.000000   \n",
       "75%     668.500000    1.000000    3.000000   38.000000    1.000000   \n",
       "max     891.000000    1.000000    3.000000   80.000000    8.000000   \n",
       "\n",
       "            Parch        Fare  \n",
       "count  891.000000  891.000000  \n",
       "mean     0.381594   32.204208  \n",
       "std      0.806057   49.693429  \n",
       "min      0.000000    0.000000  \n",
       "25%      0.000000    7.910400  \n",
       "50%      0.000000   14.454200  \n",
       "75%      0.000000   31.000000  \n",
       "max      6.000000  512.329200  "
      ]
     },
     "execution_count": 5,
     "metadata": {},
     "output_type": "execute_result"
    }
   ],
   "source": [
    "df.describe()"
   ]
  },
  {
   "cell_type": "markdown",
   "id": "ce269171-6961-4a23-a502-0a3a9bd0b184",
   "metadata": {},
   "source": [
    "# **Xử lý dữ liệu**"
   ]
  },
  {
   "cell_type": "code",
   "execution_count": 8,
   "id": "9ddbdf24-4457-4db5-9ed4-44a15f3eb0e6",
   "metadata": {},
   "outputs": [
    {
     "name": "stdout",
     "output_type": "stream",
     "text": [
      "<class 'pandas.core.frame.DataFrame'>\n",
      "RangeIndex: 891 entries, 0 to 890\n",
      "Data columns (total 12 columns):\n",
      " #   Column       Non-Null Count  Dtype  \n",
      "---  ------       --------------  -----  \n",
      " 0   PassengerId  891 non-null    int64  \n",
      " 1   Survived     891 non-null    int64  \n",
      " 2   Pclass       891 non-null    int64  \n",
      " 3   Name         891 non-null    object \n",
      " 4   Sex          891 non-null    object \n",
      " 5   Age          891 non-null    float64\n",
      " 6   SibSp        891 non-null    int64  \n",
      " 7   Parch        891 non-null    int64  \n",
      " 8   Ticket       891 non-null    object \n",
      " 9   Fare         891 non-null    float64\n",
      " 10  Cabin        204 non-null    object \n",
      " 11  Embarked     889 non-null    object \n",
      "dtypes: float64(2), int64(5), object(5)\n",
      "memory usage: 83.7+ KB\n"
     ]
    }
   ],
   "source": [
    "median_age = df[\"Age\"].median() \n",
    "df[\"Age\"] = df[\"Age\"].fillna(median_age) \n",
    "df.info() "
   ]
  },
  {
   "cell_type": "code",
   "execution_count": 10,
   "id": "81969dd8-3ad7-486f-a8a1-932605adc9f7",
   "metadata": {},
   "outputs": [
    {
     "name": "stdout",
     "output_type": "stream",
     "text": [
      "<class 'pandas.core.frame.DataFrame'>\n",
      "RangeIndex: 891 entries, 0 to 890\n",
      "Data columns (total 12 columns):\n",
      " #   Column       Non-Null Count  Dtype  \n",
      "---  ------       --------------  -----  \n",
      " 0   PassengerId  891 non-null    int64  \n",
      " 1   Survived     891 non-null    int64  \n",
      " 2   Pclass       891 non-null    int64  \n",
      " 3   Name         891 non-null    object \n",
      " 4   Sex          891 non-null    object \n",
      " 5   Age          891 non-null    float64\n",
      " 6   SibSp        891 non-null    int64  \n",
      " 7   Parch        891 non-null    int64  \n",
      " 8   Ticket       891 non-null    object \n",
      " 9   Fare         891 non-null    float64\n",
      " 10  Cabin        891 non-null    object \n",
      " 11  Embarked     889 non-null    object \n",
      "dtypes: float64(2), int64(5), object(5)\n",
      "memory usage: 83.7+ KB\n"
     ]
    }
   ],
   "source": [
    "mode_cabin = df[\"Cabin\"].mode()[0]\n",
    "df[\"Cabin\"] = df[\"Cabin\"].fillna(mode_cabin) \n",
    "df.info() "
   ]
  },
  {
   "cell_type": "code",
   "execution_count": 12,
   "id": "e140fafd-77dc-4921-aa69-e78c360e1e36",
   "metadata": {},
   "outputs": [
    {
     "name": "stdout",
     "output_type": "stream",
     "text": [
      "<class 'pandas.core.frame.DataFrame'>\n",
      "RangeIndex: 891 entries, 0 to 890\n",
      "Data columns (total 12 columns):\n",
      " #   Column       Non-Null Count  Dtype  \n",
      "---  ------       --------------  -----  \n",
      " 0   PassengerId  891 non-null    int64  \n",
      " 1   Survived     891 non-null    int64  \n",
      " 2   Pclass       891 non-null    int64  \n",
      " 3   Name         891 non-null    object \n",
      " 4   Sex          891 non-null    object \n",
      " 5   Age          891 non-null    float64\n",
      " 6   SibSp        891 non-null    int64  \n",
      " 7   Parch        891 non-null    int64  \n",
      " 8   Ticket       891 non-null    object \n",
      " 9   Fare         891 non-null    float64\n",
      " 10  Cabin        891 non-null    object \n",
      " 11  Embarked     891 non-null    object \n",
      "dtypes: float64(2), int64(5), object(5)\n",
      "memory usage: 83.7+ KB\n"
     ]
    }
   ],
   "source": [
    "mode_embarked = df[\"Embarked\"].mode()[0]\n",
    "df[\"Embarked\"] = df[\"Embarked\"].fillna(mode_embarked) \n",
    "df.info() "
   ]
  },
  {
   "cell_type": "markdown",
   "id": "6e1ab31b-afec-488b-bead-b2273eb19751",
   "metadata": {},
   "source": [
    "# **Chuyển kiểu dữ liệu** "
   ]
  },
  {
   "cell_type": "code",
   "execution_count": 15,
   "id": "18c7635c-7b8e-4b43-9520-7b098180f775",
   "metadata": {},
   "outputs": [],
   "source": [
    "df = df.astype({\n",
    "    col: \"string\" for col in df.select_dtypes(include=\"object\").columns\n",
    "}) "
   ]
  },
  {
   "cell_type": "code",
   "execution_count": 17,
   "id": "cf9ba4ae-8942-41ed-ae6c-6adb4ccbc4cb",
   "metadata": {},
   "outputs": [
    {
     "name": "stdout",
     "output_type": "stream",
     "text": [
      "<class 'pandas.core.frame.DataFrame'>\n",
      "RangeIndex: 891 entries, 0 to 890\n",
      "Data columns (total 12 columns):\n",
      " #   Column       Non-Null Count  Dtype  \n",
      "---  ------       --------------  -----  \n",
      " 0   PassengerId  891 non-null    int64  \n",
      " 1   Survived     891 non-null    int64  \n",
      " 2   Pclass       891 non-null    int64  \n",
      " 3   Name         891 non-null    string \n",
      " 4   Sex          891 non-null    string \n",
      " 5   Age          891 non-null    float64\n",
      " 6   SibSp        891 non-null    int64  \n",
      " 7   Parch        891 non-null    int64  \n",
      " 8   Ticket       891 non-null    string \n",
      " 9   Fare         891 non-null    float64\n",
      " 10  Cabin        891 non-null    string \n",
      " 11  Embarked     891 non-null    string \n",
      "dtypes: float64(2), int64(5), string(5)\n",
      "memory usage: 83.7 KB\n"
     ]
    }
   ],
   "source": [
    "df.info() "
   ]
  },
  {
   "cell_type": "markdown",
   "id": "eb6e594f-2157-4345-9355-1f03a36a05d4",
   "metadata": {},
   "source": [
    "# **Pandas Query** "
   ]
  },
  {
   "cell_type": "markdown",
   "id": "b75aa86c-976b-494b-b257-7c27b7d62eed",
   "metadata": {},
   "source": [
    "### Truy vấn theo cột"
   ]
  },
  {
   "cell_type": "code",
   "execution_count": 21,
   "id": "8ca31f25-c602-4dc8-896a-11ef60d09e1f",
   "metadata": {},
   "outputs": [
    {
     "name": "stdout",
     "output_type": "stream",
     "text": [
      "<class 'pandas.core.frame.DataFrame'>\n",
      "RangeIndex: 891 entries, 0 to 890\n",
      "Data columns (total 3 columns):\n",
      " #   Column  Non-Null Count  Dtype  \n",
      "---  ------  --------------  -----  \n",
      " 0   Name    891 non-null    string \n",
      " 1   Age     891 non-null    float64\n",
      " 2   Sex     891 non-null    string \n",
      "dtypes: float64(1), string(2)\n",
      "memory usage: 21.0 KB\n"
     ]
    }
   ],
   "source": [
    "df_personal_info = df[[\"Name\", \"Age\", \"Sex\"]] \n",
    "df_personal_info.info() "
   ]
  },
  {
   "cell_type": "markdown",
   "id": "ffd8769f-a056-41af-ad50-9237cdab94ad",
   "metadata": {},
   "source": [
    "### Truy vấn theo điều kiện "
   ]
  },
  {
   "cell_type": "code",
   "execution_count": 26,
   "id": "424b3365-c580-46cf-b2a9-d09e028c5271",
   "metadata": {},
   "outputs": [
    {
     "name": "stdout",
     "output_type": "stream",
     "text": [
      "<class 'pandas.core.frame.DataFrame'>\n",
      "Index: 278 entries, 0 to 887\n",
      "Data columns (total 12 columns):\n",
      " #   Column       Non-Null Count  Dtype  \n",
      "---  ------       --------------  -----  \n",
      " 0   PassengerId  278 non-null    int64  \n",
      " 1   Survived     278 non-null    int64  \n",
      " 2   Pclass       278 non-null    int64  \n",
      " 3   Name         278 non-null    string \n",
      " 4   Sex          278 non-null    string \n",
      " 5   Age          278 non-null    float64\n",
      " 6   SibSp        278 non-null    int64  \n",
      " 7   Parch        278 non-null    int64  \n",
      " 8   Ticket       278 non-null    string \n",
      " 9   Fare         278 non-null    float64\n",
      " 10  Cabin        278 non-null    string \n",
      " 11  Embarked     278 non-null    string \n",
      "dtypes: float64(2), int64(5), string(5)\n",
      "memory usage: 28.2 KB\n"
     ]
    }
   ],
   "source": [
    "# Cách 1\n",
    "df_young = df.query('Age < 25') \n",
    "df_young.info() "
   ]
  },
  {
   "cell_type": "code",
   "execution_count": 28,
   "id": "82cbbc62-9aff-43d0-a587-e5ee81b12032",
   "metadata": {},
   "outputs": [
    {
     "name": "stdout",
     "output_type": "stream",
     "text": [
      "<class 'pandas.core.frame.DataFrame'>\n",
      "Index: 278 entries, 0 to 887\n",
      "Data columns (total 12 columns):\n",
      " #   Column       Non-Null Count  Dtype  \n",
      "---  ------       --------------  -----  \n",
      " 0   PassengerId  278 non-null    int64  \n",
      " 1   Survived     278 non-null    int64  \n",
      " 2   Pclass       278 non-null    int64  \n",
      " 3   Name         278 non-null    string \n",
      " 4   Sex          278 non-null    string \n",
      " 5   Age          278 non-null    float64\n",
      " 6   SibSp        278 non-null    int64  \n",
      " 7   Parch        278 non-null    int64  \n",
      " 8   Ticket       278 non-null    string \n",
      " 9   Fare         278 non-null    float64\n",
      " 10  Cabin        278 non-null    string \n",
      " 11  Embarked     278 non-null    string \n",
      "dtypes: float64(2), int64(5), string(5)\n",
      "memory usage: 28.2 KB\n"
     ]
    }
   ],
   "source": [
    "# Cách 2\n",
    "df_young_2 = df[df[\"Age\"] < 25] \n",
    "df_young_2.info() "
   ]
  },
  {
   "cell_type": "markdown",
   "id": "687cace7-75eb-4383-9dcc-601ca4fd86d3",
   "metadata": {},
   "source": [
    "### Điều kiện gộp "
   ]
  },
  {
   "cell_type": "code",
   "execution_count": 31,
   "id": "54f5a266-0331-4762-9393-c5a8174bb8d8",
   "metadata": {},
   "outputs": [
    {
     "name": "stdout",
     "output_type": "stream",
     "text": [
      "<class 'pandas.core.frame.DataFrame'>\n",
      "Index: 180 entries, 1 to 890\n",
      "Data columns (total 12 columns):\n",
      " #   Column       Non-Null Count  Dtype  \n",
      "---  ------       --------------  -----  \n",
      " 0   PassengerId  180 non-null    int64  \n",
      " 1   Survived     180 non-null    int64  \n",
      " 2   Pclass       180 non-null    int64  \n",
      " 3   Name         180 non-null    string \n",
      " 4   Sex          180 non-null    string \n",
      " 5   Age          180 non-null    float64\n",
      " 6   SibSp        180 non-null    int64  \n",
      " 7   Parch        180 non-null    int64  \n",
      " 8   Ticket       180 non-null    string \n",
      " 9   Fare         180 non-null    float64\n",
      " 10  Cabin        180 non-null    string \n",
      " 11  Embarked     180 non-null    string \n",
      "dtypes: float64(2), int64(5), string(5)\n",
      "memory usage: 18.3 KB\n"
     ]
    }
   ],
   "source": [
    "# Cách 1\n",
    "df_middle_age = df.query(\"30 <= Age <= 40\")\n",
    "df_middle_age.info() "
   ]
  },
  {
   "cell_type": "code",
   "execution_count": 39,
   "id": "12123cb2-bfad-4d88-96b9-54a0832327c6",
   "metadata": {},
   "outputs": [
    {
     "name": "stdout",
     "output_type": "stream",
     "text": [
      "<class 'pandas.core.frame.DataFrame'>\n",
      "Index: 180 entries, 1 to 890\n",
      "Data columns (total 12 columns):\n",
      " #   Column       Non-Null Count  Dtype  \n",
      "---  ------       --------------  -----  \n",
      " 0   PassengerId  180 non-null    int64  \n",
      " 1   Survived     180 non-null    int64  \n",
      " 2   Pclass       180 non-null    int64  \n",
      " 3   Name         180 non-null    string \n",
      " 4   Sex          180 non-null    string \n",
      " 5   Age          180 non-null    float64\n",
      " 6   SibSp        180 non-null    int64  \n",
      " 7   Parch        180 non-null    int64  \n",
      " 8   Ticket       180 non-null    string \n",
      " 9   Fare         180 non-null    float64\n",
      " 10  Cabin        180 non-null    string \n",
      " 11  Embarked     180 non-null    string \n",
      "dtypes: float64(2), int64(5), string(5)\n",
      "memory usage: 18.3 KB\n"
     ]
    }
   ],
   "source": [
    "# Cách 2\n",
    "df_middle_age2 = df[(df[\"Age\"] >= 30) & (df[\"Age\"] <= 40)] \n",
    "df_middle_age2.info() "
   ]
  },
  {
   "cell_type": "code",
   "execution_count": 47,
   "id": "5e6a89db-215a-4b8f-9b08-c71b0fed5241",
   "metadata": {},
   "outputs": [
    {
     "name": "stdout",
     "output_type": "stream",
     "text": [
      "<class 'pandas.core.frame.DataFrame'>\n",
      "Index: 577 entries, 0 to 890\n",
      "Data columns (total 12 columns):\n",
      " #   Column       Non-Null Count  Dtype  \n",
      "---  ------       --------------  -----  \n",
      " 0   PassengerId  577 non-null    int64  \n",
      " 1   Survived     577 non-null    int64  \n",
      " 2   Pclass       577 non-null    int64  \n",
      " 3   Name         577 non-null    string \n",
      " 4   Sex          577 non-null    string \n",
      " 5   Age          577 non-null    float64\n",
      " 6   SibSp        577 non-null    int64  \n",
      " 7   Parch        577 non-null    int64  \n",
      " 8   Ticket       577 non-null    string \n",
      " 9   Fare         577 non-null    float64\n",
      " 10  Cabin        577 non-null    string \n",
      " 11  Embarked     577 non-null    string \n",
      "dtypes: float64(2), int64(5), string(5)\n",
      "memory usage: 58.6 KB\n"
     ]
    }
   ],
   "source": [
    "df_male = df.query(\"Sex == 'male'\")\n",
    "df_male.info()"
   ]
  },
  {
   "cell_type": "code",
   "execution_count": 73,
   "id": "b39e2a4c-58de-445d-82ba-7924e3228379",
   "metadata": {},
   "outputs": [
    {
     "name": "stdout",
     "output_type": "stream",
     "text": [
      "<class 'pandas.core.frame.DataFrame'>\n",
      "Index: 216 entries, 4 to 890\n",
      "Data columns (total 12 columns):\n",
      " #   Column       Non-Null Count  Dtype  \n",
      "---  ------       --------------  -----  \n",
      " 0   PassengerId  216 non-null    int64  \n",
      " 1   Survived     216 non-null    int64  \n",
      " 2   Pclass       216 non-null    int64  \n",
      " 3   Name         216 non-null    string \n",
      " 4   Sex          216 non-null    string \n",
      " 5   Age          216 non-null    float64\n",
      " 6   SibSp        216 non-null    int64  \n",
      " 7   Parch        216 non-null    int64  \n",
      " 8   Ticket       216 non-null    string \n",
      " 9   Fare         216 non-null    float64\n",
      " 10  Cabin        216 non-null    string \n",
      " 11  Embarked     216 non-null    string \n",
      "dtypes: float64(2), int64(5), string(5)\n",
      "memory usage: 21.9 KB\n"
     ]
    }
   ],
   "source": [
    "df_young_male = df.query(\"Sex == 'male' & Age >= 30\")\n",
    "df_young_male.info()"
   ]
  },
  {
   "cell_type": "markdown",
   "id": "12b04307-b19f-494a-8ab8-7cd891ec1fd9",
   "metadata": {},
   "source": [
    "### Truy vấn tên theo điều kiện"
   ]
  },
  {
   "cell_type": "code",
   "execution_count": 58,
   "id": "a73ec08f-8d6f-43d7-9f5d-53aa9cbe02c2",
   "metadata": {},
   "outputs": [
    {
     "name": "stdout",
     "output_type": "stream",
     "text": [
      "<class 'pandas.core.frame.DataFrame'>\n",
      "Index: 647 entries, 0 to 890\n",
      "Data columns (total 12 columns):\n",
      " #   Column       Non-Null Count  Dtype  \n",
      "---  ------       --------------  -----  \n",
      " 0   PassengerId  647 non-null    int64  \n",
      " 1   Survived     647 non-null    int64  \n",
      " 2   Pclass       647 non-null    int64  \n",
      " 3   Name         647 non-null    string \n",
      " 4   Sex          647 non-null    string \n",
      " 5   Age          647 non-null    float64\n",
      " 6   SibSp        647 non-null    int64  \n",
      " 7   Parch        647 non-null    int64  \n",
      " 8   Ticket       647 non-null    string \n",
      " 9   Fare         647 non-null    float64\n",
      " 10  Cabin        647 non-null    string \n",
      " 11  Embarked     647 non-null    string \n",
      "dtypes: float64(2), int64(5), string(5)\n",
      "memory usage: 65.7 KB\n"
     ]
    }
   ],
   "source": [
    "df_mr = df[df[\"Name\"].str.contains(\"Mr\", na=False)] \n",
    "df_mr.info() "
   ]
  },
  {
   "cell_type": "markdown",
   "id": "9fc47c1b-07e1-495c-903e-3117093fda32",
   "metadata": {},
   "source": [
    "# Đổi tên cột"
   ]
  },
  {
   "cell_type": "code",
   "execution_count": 61,
   "id": "1ed80330-60c0-4acd-aafa-e99141e68b2f",
   "metadata": {},
   "outputs": [],
   "source": [
    "columns = {\n",
    "    \"PassengerId\": \"Passenger ID\",\n",
    "    \"Pclass\": \"Premium class\"\n",
    "}"
   ]
  },
  {
   "cell_type": "code",
   "execution_count": 63,
   "id": "b9f4cc06-f721-4c53-b67f-0ff4146d4ea1",
   "metadata": {},
   "outputs": [
    {
     "data": {
      "text/plain": [
       "Index(['PassengerId', 'Survived', 'Pclass', 'Name', 'Sex', 'Age', 'SibSp',\n",
       "       'Parch', 'Ticket', 'Fare', 'Cabin', 'Embarked'],\n",
       "      dtype='object')"
      ]
     },
     "execution_count": 63,
     "metadata": {},
     "output_type": "execute_result"
    }
   ],
   "source": [
    "df.columns "
   ]
  },
  {
   "cell_type": "code",
   "execution_count": 65,
   "id": "0f4c27d6-887c-42d8-a640-5eea47e63828",
   "metadata": {},
   "outputs": [
    {
     "data": {
      "text/plain": [
       "Index(['Passenger ID', 'Survived', 'Premium class', 'Name', 'Sex', 'Age',\n",
       "       'SibSp', 'Parch', 'Ticket', 'Fare', 'Cabin', 'Embarked'],\n",
       "      dtype='object')"
      ]
     },
     "execution_count": 65,
     "metadata": {},
     "output_type": "execute_result"
    }
   ],
   "source": [
    "df_rename = df.rename(columns, axis=\"columns\")\n",
    "df_rename.columns"
   ]
  },
  {
   "cell_type": "code",
   "execution_count": 67,
   "id": "9c997662-f184-46b1-9e0a-f6887902bbf0",
   "metadata": {},
   "outputs": [
    {
     "name": "stdout",
     "output_type": "stream",
     "text": [
      "<class 'pandas.core.frame.DataFrame'>\n",
      "RangeIndex: 891 entries, 0 to 890\n",
      "Data columns (total 12 columns):\n",
      " #   Column         Non-Null Count  Dtype  \n",
      "---  ------         --------------  -----  \n",
      " 0   Passenger ID   891 non-null    int64  \n",
      " 1   Survived       891 non-null    int64  \n",
      " 2   Premium class  891 non-null    int64  \n",
      " 3   Name           891 non-null    string \n",
      " 4   Sex            891 non-null    string \n",
      " 5   Age            891 non-null    float64\n",
      " 6   SibSp          891 non-null    int64  \n",
      " 7   Parch          891 non-null    int64  \n",
      " 8   Ticket         891 non-null    string \n",
      " 9   Fare           891 non-null    float64\n",
      " 10  Cabin          891 non-null    string \n",
      " 11  Embarked       891 non-null    string \n",
      "dtypes: float64(2), int64(5), string(5)\n",
      "memory usage: 83.7 KB\n"
     ]
    }
   ],
   "source": [
    "df_rename.info() "
   ]
  },
  {
   "cell_type": "code",
   "execution_count": 69,
   "id": "68fa9d8e-ef18-480c-a76e-3b862cf0cddb",
   "metadata": {},
   "outputs": [
    {
     "name": "stdout",
     "output_type": "stream",
     "text": [
      "<class 'pandas.core.frame.DataFrame'>\n",
      "RangeIndex: 891 entries, 0 to 890\n",
      "Data columns (total 12 columns):\n",
      " #   Column       Non-Null Count  Dtype  \n",
      "---  ------       --------------  -----  \n",
      " 0   PassengerId  891 non-null    int64  \n",
      " 1   Survived     891 non-null    int64  \n",
      " 2   Pclass       891 non-null    int64  \n",
      " 3   Name         891 non-null    string \n",
      " 4   Sex          891 non-null    string \n",
      " 5   Age          891 non-null    float64\n",
      " 6   SibSp        891 non-null    int64  \n",
      " 7   Parch        891 non-null    int64  \n",
      " 8   Ticket       891 non-null    string \n",
      " 9   Fare         891 non-null    float64\n",
      " 10  Cabin        891 non-null    string \n",
      " 11  Embarked     891 non-null    string \n",
      "dtypes: float64(2), int64(5), string(5)\n",
      "memory usage: 83.7 KB\n"
     ]
    }
   ],
   "source": [
    "df.info()"
   ]
  },
  {
   "cell_type": "code",
   "execution_count": null,
   "id": "f9c44ebd-e488-4e30-8ae3-12078d8df4d9",
   "metadata": {},
   "outputs": [],
   "source": [
    "df_rename.to_csv(\"\")"
   ]
  }
 ],
 "metadata": {
  "kernelspec": {
   "display_name": "Python 3 (ipykernel)",
   "language": "python",
   "name": "python3"
  },
  "language_info": {
   "codemirror_mode": {
    "name": "ipython",
    "version": 3
   },
   "file_extension": ".py",
   "mimetype": "text/x-python",
   "name": "python",
   "nbconvert_exporter": "python",
   "pygments_lexer": "ipython3",
   "version": "3.12.2"
  }
 },
 "nbformat": 4,
 "nbformat_minor": 5
}
