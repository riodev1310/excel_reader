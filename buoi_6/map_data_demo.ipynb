{
 "cells": [
  {
   "cell_type": "code",
   "execution_count": 29,
   "id": "3721cf4b",
   "metadata": {},
   "outputs": [],
   "source": [
    "import pandas as pd"
   ]
  },
  {
   "cell_type": "code",
   "execution_count": 30,
   "id": "37947114",
   "metadata": {},
   "outputs": [],
   "source": [
    "df = pd.read_excel('company data.xlsx', sheet_name=None)"
   ]
  },
  {
   "cell_type": "code",
   "execution_count": 31,
   "id": "9e3c12b2",
   "metadata": {},
   "outputs": [],
   "source": [
    "visitors_df = df['Visitors data']\n",
    "products_df = df['Products'].set_index('Product id')\n",
    "cities_df = df['Cities'].set_index('City id')\n",
    "channels_df = df['Traffic channels'].set_index('Channel id')\n",
    "pricing_plans_df = df['Pricing plans'].set_index('Pricing plan id')\n",
    "prices_df = df['Prices']\n",
    "prices_df = prices_df.set_index(prices_df.columns[0])"
   ]
  },
  {
   "cell_type": "code",
   "execution_count": 33,
   "id": "ae5c0e4a",
   "metadata": {},
   "outputs": [
    {
     "data": {
      "text/html": [
       "<div>\n",
       "<style scoped>\n",
       "    .dataframe tbody tr th:only-of-type {\n",
       "        vertical-align: middle;\n",
       "    }\n",
       "\n",
       "    .dataframe tbody tr th {\n",
       "        vertical-align: top;\n",
       "    }\n",
       "\n",
       "    .dataframe thead th {\n",
       "        text-align: right;\n",
       "    }\n",
       "</style>\n",
       "<table border=\"1\" class=\"dataframe\">\n",
       "  <thead>\n",
       "    <tr style=\"text-align: right;\">\n",
       "      <th></th>\n",
       "      <th>Channel</th>\n",
       "    </tr>\n",
       "    <tr>\n",
       "      <th>Channel id</th>\n",
       "      <th></th>\n",
       "    </tr>\n",
       "  </thead>\n",
       "  <tbody>\n",
       "    <tr>\n",
       "      <th>1</th>\n",
       "      <td>Google SEO</td>\n",
       "    </tr>\n",
       "    <tr>\n",
       "      <th>2</th>\n",
       "      <td>Google Ads</td>\n",
       "    </tr>\n",
       "    <tr>\n",
       "      <th>3</th>\n",
       "      <td>Bing</td>\n",
       "    </tr>\n",
       "    <tr>\n",
       "      <th>4</th>\n",
       "      <td>Facebook</td>\n",
       "    </tr>\n",
       "    <tr>\n",
       "      <th>5</th>\n",
       "      <td>Instagram</td>\n",
       "    </tr>\n",
       "    <tr>\n",
       "      <th>6</th>\n",
       "      <td>Twitter</td>\n",
       "    </tr>\n",
       "  </tbody>\n",
       "</table>\n",
       "</div>"
      ],
      "text/plain": [
       "               Channel\n",
       "Channel id            \n",
       "1           Google SEO\n",
       "2           Google Ads\n",
       "3                 Bing\n",
       "4             Facebook\n",
       "5            Instagram\n",
       "6              Twitter"
      ]
     },
     "execution_count": 33,
     "metadata": {},
     "output_type": "execute_result"
    }
   ],
   "source": [
    "channels_df "
   ]
  },
  {
   "cell_type": "code",
   "execution_count": 34,
   "id": "0e6d2754",
   "metadata": {},
   "outputs": [
    {
     "name": "stdout",
     "output_type": "stream",
     "text": [
      "<class 'pandas.core.frame.DataFrame'>\n",
      "RangeIndex: 1500 entries, 0 to 1499\n",
      "Data columns (total 11 columns):\n",
      " #   Column             Non-Null Count  Dtype \n",
      "---  ------             --------------  ----- \n",
      " 0   Visitor id         1500 non-null   int64 \n",
      " 1   Channel id         1500 non-null   int64 \n",
      " 2   Device type        1500 non-null   object\n",
      " 3   Bought             1500 non-null   int64 \n",
      " 4   Order id           1500 non-null   int64 \n",
      " 5   Product id         1500 non-null   int64 \n",
      " 6   Pricing plan id    1500 non-null   int64 \n",
      " 7   City id            1500 non-null   int64 \n",
      " 8   Day of week (num)  1500 non-null   int64 \n",
      " 9   Day of week        1500 non-null   object\n",
      " 10  Channel            1498 non-null   object\n",
      "dtypes: int64(8), object(3)\n",
      "memory usage: 129.0+ KB\n"
     ]
    }
   ],
   "source": [
    "visitors_df[\"Channel\"] = visitors_df[\"Channel id\"].map(channels_df[\"Channel\"])\n",
    "visitors_df.info()"
   ]
  },
  {
   "cell_type": "code",
   "execution_count": 35,
   "id": "49e6700f",
   "metadata": {},
   "outputs": [
    {
     "name": "stdout",
     "output_type": "stream",
     "text": [
      "<class 'pandas.core.frame.DataFrame'>\n",
      "RangeIndex: 1500 entries, 0 to 1499\n",
      "Data columns (total 12 columns):\n",
      " #   Column             Non-Null Count  Dtype \n",
      "---  ------             --------------  ----- \n",
      " 0   Visitor id         1500 non-null   int64 \n",
      " 1   Channel id         1500 non-null   int64 \n",
      " 2   Device type        1500 non-null   object\n",
      " 3   Bought             1500 non-null   int64 \n",
      " 4   Order id           1500 non-null   int64 \n",
      " 5   Product id         1500 non-null   int64 \n",
      " 6   Pricing plan id    1500 non-null   int64 \n",
      " 7   City id            1500 non-null   int64 \n",
      " 8   Day of week (num)  1500 non-null   int64 \n",
      " 9   Day of week        1500 non-null   object\n",
      " 10  Channel            1498 non-null   object\n",
      " 11  Products           1500 non-null   object\n",
      "dtypes: int64(8), object(4)\n",
      "memory usage: 140.8+ KB\n"
     ]
    }
   ],
   "source": [
    "visitors_df[\"Products\"] = visitors_df[\"Product id\"].map(products_df[\"Product\"])\n",
    "visitors_df.info() "
   ]
  },
  {
   "cell_type": "code",
   "execution_count": 36,
   "id": "2eac85eb",
   "metadata": {},
   "outputs": [
    {
     "name": "stdout",
     "output_type": "stream",
     "text": [
      "<class 'pandas.core.frame.DataFrame'>\n",
      "RangeIndex: 1500 entries, 0 to 1499\n",
      "Data columns (total 13 columns):\n",
      " #   Column             Non-Null Count  Dtype \n",
      "---  ------             --------------  ----- \n",
      " 0   Visitor id         1500 non-null   int64 \n",
      " 1   Channel id         1500 non-null   int64 \n",
      " 2   Device type        1500 non-null   object\n",
      " 3   Bought             1500 non-null   int64 \n",
      " 4   Order id           1500 non-null   int64 \n",
      " 5   Product id         1500 non-null   int64 \n",
      " 6   Pricing plan id    1500 non-null   int64 \n",
      " 7   City id            1500 non-null   int64 \n",
      " 8   Day of week (num)  1500 non-null   int64 \n",
      " 9   Day of week        1500 non-null   object\n",
      " 10  Channel            1498 non-null   object\n",
      " 11  Products           1500 non-null   object\n",
      " 12  Pricing Plan       1500 non-null   object\n",
      "dtypes: int64(8), object(5)\n",
      "memory usage: 152.5+ KB\n"
     ]
    }
   ],
   "source": [
    "visitors_df[\"Pricing Plan\"] = visitors_df[\"Pricing plan id\"].map(pricing_plans_df[\"Pricing plan\"])\n",
    "visitors_df.info()"
   ]
  },
  {
   "cell_type": "code",
   "execution_count": 37,
   "id": "5ba60b57",
   "metadata": {},
   "outputs": [
    {
     "name": "stdout",
     "output_type": "stream",
     "text": [
      "<class 'pandas.core.frame.DataFrame'>\n",
      "RangeIndex: 1500 entries, 0 to 1499\n",
      "Data columns (total 14 columns):\n",
      " #   Column             Non-Null Count  Dtype \n",
      "---  ------             --------------  ----- \n",
      " 0   Visitor id         1500 non-null   int64 \n",
      " 1   Channel id         1500 non-null   int64 \n",
      " 2   Device type        1500 non-null   object\n",
      " 3   Bought             1500 non-null   int64 \n",
      " 4   Order id           1500 non-null   int64 \n",
      " 5   Product id         1500 non-null   int64 \n",
      " 6   Pricing plan id    1500 non-null   int64 \n",
      " 7   City id            1500 non-null   int64 \n",
      " 8   Day of week (num)  1500 non-null   int64 \n",
      " 9   Day of week        1500 non-null   object\n",
      " 10  Channel            1498 non-null   object\n",
      " 11  Products           1500 non-null   object\n",
      " 12  Pricing Plan       1500 non-null   object\n",
      " 13  City               1500 non-null   object\n",
      "dtypes: int64(8), object(6)\n",
      "memory usage: 164.2+ KB\n"
     ]
    }
   ],
   "source": [
    "visitors_df['City'] = visitors_df['City id'].map(cities_df['City'])\n",
    "visitors_df.info()"
   ]
  },
  {
   "cell_type": "code",
   "execution_count": null,
   "id": "563d0ca6",
   "metadata": {},
   "outputs": [],
   "source": []
  }
 ],
 "metadata": {
  "kernelspec": {
   "display_name": "base",
   "language": "python",
   "name": "python3"
  },
  "language_info": {
   "codemirror_mode": {
    "name": "ipython",
    "version": 3
   },
   "file_extension": ".py",
   "mimetype": "text/x-python",
   "name": "python",
   "nbconvert_exporter": "python",
   "pygments_lexer": "ipython3",
   "version": "3.12.2"
  }
 },
 "nbformat": 4,
 "nbformat_minor": 5
}
